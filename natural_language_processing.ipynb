{
  "nbformat": 4,
  "nbformat_minor": 0,
  "metadata": {
    "colab": {
      "name": "natural_language_processing.ipynb",
      "provenance": [],
      "collapsed_sections": [],
      "authorship_tag": "ABX9TyOXpELrNnZzlA/Q9iu1Whl6",
      "include_colab_link": true
    },
    "kernelspec": {
      "name": "python3",
      "display_name": "Python 3"
    },
    "language_info": {
      "name": "python"
    },
    "accelerator": "GPU"
  },
  "cells": [
    {
      "cell_type": "markdown",
      "metadata": {
        "id": "view-in-github",
        "colab_type": "text"
      },
      "source": [
        "<a href=\"https://colab.research.google.com/github/mananjain02/disaster_or_not/blob/main/natural_language_processing.ipynb\" target=\"_parent\"><img src=\"https://colab.research.google.com/assets/colab-badge.svg\" alt=\"Open In Colab\"/></a>"
      ]
    },
    {
      "cell_type": "code",
      "metadata": {
        "id": "8rLwndiD22Rr"
      },
      "source": [
        "import pandas as pd\n",
        "import numpy as np \n",
        "import matplotlib.pyplot as plt\n",
        "import seaborn as sns\n",
        "sns.set()"
      ],
      "execution_count": 6,
      "outputs": []
    },
    {
      "cell_type": "code",
      "metadata": {
        "id": "ecofI83mGQ78"
      },
      "source": [
        "import tensorflow as tf"
      ],
      "execution_count": 7,
      "outputs": []
    },
    {
      "cell_type": "code",
      "metadata": {
        "id": "6cFyW86qTkdF"
      },
      "source": [
        "from helper_functions import unzip_data, create_tensorboard_callback, compare_historys"
      ],
      "execution_count": 9,
      "outputs": []
    },
    {
      "cell_type": "code",
      "metadata": {
        "id": "yM0DcvhZTiji"
      },
      "source": [
        "unzip_data('/content/nlp_getting_started.zip')"
      ],
      "execution_count": null,
      "outputs": []
    },
    {
      "cell_type": "code",
      "metadata": {
        "id": "lJufffS5Ttnx"
      },
      "source": [
        "data = pd.read_csv('/content/train.csv')"
      ],
      "execution_count": null,
      "outputs": []
    },
    {
      "cell_type": "code",
      "metadata": {
        "colab": {
          "base_uri": "https://localhost:8080/",
          "height": 419
        },
        "id": "_7_K2HnBV0tO",
        "outputId": "a2f63c04-8408-47e2-953a-615aa441d3c4"
      },
      "source": [
        "data"
      ],
      "execution_count": null,
      "outputs": [
        {
          "output_type": "execute_result",
          "data": {
            "text/html": [
              "<div>\n",
              "<style scoped>\n",
              "    .dataframe tbody tr th:only-of-type {\n",
              "        vertical-align: middle;\n",
              "    }\n",
              "\n",
              "    .dataframe tbody tr th {\n",
              "        vertical-align: top;\n",
              "    }\n",
              "\n",
              "    .dataframe thead th {\n",
              "        text-align: right;\n",
              "    }\n",
              "</style>\n",
              "<table border=\"1\" class=\"dataframe\">\n",
              "  <thead>\n",
              "    <tr style=\"text-align: right;\">\n",
              "      <th></th>\n",
              "      <th>id</th>\n",
              "      <th>keyword</th>\n",
              "      <th>location</th>\n",
              "      <th>text</th>\n",
              "      <th>target</th>\n",
              "    </tr>\n",
              "  </thead>\n",
              "  <tbody>\n",
              "    <tr>\n",
              "      <th>0</th>\n",
              "      <td>1</td>\n",
              "      <td>NaN</td>\n",
              "      <td>NaN</td>\n",
              "      <td>Our Deeds are the Reason of this #earthquake M...</td>\n",
              "      <td>1</td>\n",
              "    </tr>\n",
              "    <tr>\n",
              "      <th>1</th>\n",
              "      <td>4</td>\n",
              "      <td>NaN</td>\n",
              "      <td>NaN</td>\n",
              "      <td>Forest fire near La Ronge Sask. Canada</td>\n",
              "      <td>1</td>\n",
              "    </tr>\n",
              "    <tr>\n",
              "      <th>2</th>\n",
              "      <td>5</td>\n",
              "      <td>NaN</td>\n",
              "      <td>NaN</td>\n",
              "      <td>All residents asked to 'shelter in place' are ...</td>\n",
              "      <td>1</td>\n",
              "    </tr>\n",
              "    <tr>\n",
              "      <th>3</th>\n",
              "      <td>6</td>\n",
              "      <td>NaN</td>\n",
              "      <td>NaN</td>\n",
              "      <td>13,000 people receive #wildfires evacuation or...</td>\n",
              "      <td>1</td>\n",
              "    </tr>\n",
              "    <tr>\n",
              "      <th>4</th>\n",
              "      <td>7</td>\n",
              "      <td>NaN</td>\n",
              "      <td>NaN</td>\n",
              "      <td>Just got sent this photo from Ruby #Alaska as ...</td>\n",
              "      <td>1</td>\n",
              "    </tr>\n",
              "    <tr>\n",
              "      <th>...</th>\n",
              "      <td>...</td>\n",
              "      <td>...</td>\n",
              "      <td>...</td>\n",
              "      <td>...</td>\n",
              "      <td>...</td>\n",
              "    </tr>\n",
              "    <tr>\n",
              "      <th>7608</th>\n",
              "      <td>10869</td>\n",
              "      <td>NaN</td>\n",
              "      <td>NaN</td>\n",
              "      <td>Two giant cranes holding a bridge collapse int...</td>\n",
              "      <td>1</td>\n",
              "    </tr>\n",
              "    <tr>\n",
              "      <th>7609</th>\n",
              "      <td>10870</td>\n",
              "      <td>NaN</td>\n",
              "      <td>NaN</td>\n",
              "      <td>@aria_ahrary @TheTawniest The out of control w...</td>\n",
              "      <td>1</td>\n",
              "    </tr>\n",
              "    <tr>\n",
              "      <th>7610</th>\n",
              "      <td>10871</td>\n",
              "      <td>NaN</td>\n",
              "      <td>NaN</td>\n",
              "      <td>M1.94 [01:04 UTC]?5km S of Volcano Hawaii. htt...</td>\n",
              "      <td>1</td>\n",
              "    </tr>\n",
              "    <tr>\n",
              "      <th>7611</th>\n",
              "      <td>10872</td>\n",
              "      <td>NaN</td>\n",
              "      <td>NaN</td>\n",
              "      <td>Police investigating after an e-bike collided ...</td>\n",
              "      <td>1</td>\n",
              "    </tr>\n",
              "    <tr>\n",
              "      <th>7612</th>\n",
              "      <td>10873</td>\n",
              "      <td>NaN</td>\n",
              "      <td>NaN</td>\n",
              "      <td>The Latest: More Homes Razed by Northern Calif...</td>\n",
              "      <td>1</td>\n",
              "    </tr>\n",
              "  </tbody>\n",
              "</table>\n",
              "<p>7613 rows × 5 columns</p>\n",
              "</div>"
            ],
            "text/plain": [
              "         id keyword  ...                                               text target\n",
              "0         1     NaN  ...  Our Deeds are the Reason of this #earthquake M...      1\n",
              "1         4     NaN  ...             Forest fire near La Ronge Sask. Canada      1\n",
              "2         5     NaN  ...  All residents asked to 'shelter in place' are ...      1\n",
              "3         6     NaN  ...  13,000 people receive #wildfires evacuation or...      1\n",
              "4         7     NaN  ...  Just got sent this photo from Ruby #Alaska as ...      1\n",
              "...     ...     ...  ...                                                ...    ...\n",
              "7608  10869     NaN  ...  Two giant cranes holding a bridge collapse int...      1\n",
              "7609  10870     NaN  ...  @aria_ahrary @TheTawniest The out of control w...      1\n",
              "7610  10871     NaN  ...  M1.94 [01:04 UTC]?5km S of Volcano Hawaii. htt...      1\n",
              "7611  10872     NaN  ...  Police investigating after an e-bike collided ...      1\n",
              "7612  10873     NaN  ...  The Latest: More Homes Razed by Northern Calif...      1\n",
              "\n",
              "[7613 rows x 5 columns]"
            ]
          },
          "metadata": {
            "tags": []
          },
          "execution_count": 8
        }
      ]
    },
    {
      "cell_type": "code",
      "metadata": {
        "colab": {
          "base_uri": "https://localhost:8080/"
        },
        "id": "uPqXnGLYUqd5",
        "outputId": "beccf9f9-3585-4318-e8d8-1f5989b25907"
      },
      "source": [
        "data.info()"
      ],
      "execution_count": null,
      "outputs": [
        {
          "output_type": "stream",
          "text": [
            "<class 'pandas.core.frame.DataFrame'>\n",
            "RangeIndex: 7613 entries, 0 to 7612\n",
            "Data columns (total 5 columns):\n",
            " #   Column    Non-Null Count  Dtype \n",
            "---  ------    --------------  ----- \n",
            " 0   id        7613 non-null   int64 \n",
            " 1   keyword   7552 non-null   object\n",
            " 2   location  5080 non-null   object\n",
            " 3   text      7613 non-null   object\n",
            " 4   target    7613 non-null   int64 \n",
            "dtypes: int64(2), object(3)\n",
            "memory usage: 297.5+ KB\n"
          ],
          "name": "stdout"
        }
      ]
    },
    {
      "cell_type": "code",
      "metadata": {
        "colab": {
          "base_uri": "https://localhost:8080/",
          "height": 302
        },
        "id": "EDPAQ0R6UrHo",
        "outputId": "4e15b297-9776-4603-c295-2d84cac4fa2b"
      },
      "source": [
        "sns.countplot(x='target', data=data)"
      ],
      "execution_count": null,
      "outputs": [
        {
          "output_type": "execute_result",
          "data": {
            "text/plain": [
              "<matplotlib.axes._subplots.AxesSubplot at 0x7fec7494f650>"
            ]
          },
          "metadata": {
            "tags": []
          },
          "execution_count": 10
        },
        {
          "output_type": "display_data",
          "data": {
            "image/png": "[encoded data removed]",
            "text/plain": [
              "<Figure size 432x288 with 1 Axes>"
            ]
          },
          "metadata": {
            "tags": [],
            "needs_background": "light"
          }
        }
      ]
    },
    {
      "cell_type": "code",
      "metadata": {
        "colab": {
          "base_uri": "https://localhost:8080/"
        },
        "id": "6fYkYxNxVACh",
        "outputId": "d58c623c-2944-4077-d79d-7c44f97c98de"
      },
      "source": [
        "data['target'].value_counts()"
      ],
      "execution_count": null,
      "outputs": [
        {
          "output_type": "execute_result",
          "data": {
            "text/plain": [
              "0    4342\n",
              "1    3271\n",
              "Name: target, dtype: int64"
            ]
          },
          "metadata": {
            "tags": []
          },
          "execution_count": 11
        }
      ]
    },
    {
      "cell_type": "code",
      "metadata": {
        "colab": {
          "base_uri": "https://localhost:8080/"
        },
        "id": "tXNfskizVbtE",
        "outputId": "8c8f4eae-4bbf-4a2a-8218-446e9db3223e"
      },
      "source": [
        "import random\n",
        "i = random.choice(range(len(data)))\n",
        "data['text'][i], data['target'][i]"
      ],
      "execution_count": null,
      "outputs": [
        {
          "output_type": "execute_result",
          "data": {
            "text/plain": [
              "('@TanSlash waiting for an ambulance', 0)"
            ]
          },
          "metadata": {
            "tags": []
          },
          "execution_count": 12
        }
      ]
    },
    {
      "cell_type": "code",
      "metadata": {
        "id": "7gbHvRD2WT46"
      },
      "source": [
        "data_shuffled = data.sample(frac=1, random_state=42)"
      ],
      "execution_count": null,
      "outputs": []
    },
    {
      "cell_type": "code",
      "metadata": {
        "colab": {
          "base_uri": "https://localhost:8080/",
          "height": 419
        },
        "id": "rXNBDuJO1Dzp",
        "outputId": "fe9ba6e1-850a-4269-fc16-429b775cb1fe"
      },
      "source": [
        "data_shuffled"
      ],
      "execution_count": null,
      "outputs": [
        {
          "output_type": "execute_result",
          "data": {
            "text/html": [
              "<div>\n",
              "<style scoped>\n",
              "    .dataframe tbody tr th:only-of-type {\n",
              "        vertical-align: middle;\n",
              "    }\n",
              "\n",
              "    .dataframe tbody tr th {\n",
              "        vertical-align: top;\n",
              "    }\n",
              "\n",
              "    .dataframe thead th {\n",
              "        text-align: right;\n",
              "    }\n",
              "</style>\n",
              "<table border=\"1\" class=\"dataframe\">\n",
              "  <thead>\n",
              "    <tr style=\"text-align: right;\">\n",
              "      <th></th>\n",
              "      <th>id</th>\n",
              "      <th>keyword</th>\n",
              "      <th>location</th>\n",
              "      <th>text</th>\n",
              "      <th>target</th>\n",
              "    </tr>\n",
              "  </thead>\n",
              "  <tbody>\n",
              "    <tr>\n",
              "      <th>2644</th>\n",
              "      <td>3796</td>\n",
              "      <td>destruction</td>\n",
              "      <td>NaN</td>\n",
              "      <td>So you have a new weapon that can cause un-ima...</td>\n",
              "      <td>1</td>\n",
              "    </tr>\n",
              "    <tr>\n",
              "      <th>2227</th>\n",
              "      <td>3185</td>\n",
              "      <td>deluge</td>\n",
              "      <td>NaN</td>\n",
              "      <td>The f$&amp;amp;@ing things I do for #GISHWHES Just...</td>\n",
              "      <td>0</td>\n",
              "    </tr>\n",
              "    <tr>\n",
              "      <th>5448</th>\n",
              "      <td>7769</td>\n",
              "      <td>police</td>\n",
              "      <td>UK</td>\n",
              "      <td>DT @georgegalloway: RT @Galloway4Mayor: ÛÏThe...</td>\n",
              "      <td>1</td>\n",
              "    </tr>\n",
              "    <tr>\n",
              "      <th>132</th>\n",
              "      <td>191</td>\n",
              "      <td>aftershock</td>\n",
              "      <td>NaN</td>\n",
              "      <td>Aftershock back to school kick off was great. ...</td>\n",
              "      <td>0</td>\n",
              "    </tr>\n",
              "    <tr>\n",
              "      <th>6845</th>\n",
              "      <td>9810</td>\n",
              "      <td>trauma</td>\n",
              "      <td>Montgomery County, MD</td>\n",
              "      <td>in response to trauma Children of Addicts deve...</td>\n",
              "      <td>0</td>\n",
              "    </tr>\n",
              "    <tr>\n",
              "      <th>...</th>\n",
              "      <td>...</td>\n",
              "      <td>...</td>\n",
              "      <td>...</td>\n",
              "      <td>...</td>\n",
              "      <td>...</td>\n",
              "    </tr>\n",
              "    <tr>\n",
              "      <th>5226</th>\n",
              "      <td>7470</td>\n",
              "      <td>obliteration</td>\n",
              "      <td>Merica!</td>\n",
              "      <td>@Eganator2000 There aren't many Obliteration s...</td>\n",
              "      <td>0</td>\n",
              "    </tr>\n",
              "    <tr>\n",
              "      <th>5390</th>\n",
              "      <td>7691</td>\n",
              "      <td>panic</td>\n",
              "      <td>NaN</td>\n",
              "      <td>just had a panic attack bc I don't have enough...</td>\n",
              "      <td>0</td>\n",
              "    </tr>\n",
              "    <tr>\n",
              "      <th>860</th>\n",
              "      <td>1242</td>\n",
              "      <td>blood</td>\n",
              "      <td>NaN</td>\n",
              "      <td>Omron HEM-712C Automatic Blood Pressure Monito...</td>\n",
              "      <td>0</td>\n",
              "    </tr>\n",
              "    <tr>\n",
              "      <th>7603</th>\n",
              "      <td>10862</td>\n",
              "      <td>NaN</td>\n",
              "      <td>NaN</td>\n",
              "      <td>Officials say a quarantine is in place at an A...</td>\n",
              "      <td>1</td>\n",
              "    </tr>\n",
              "    <tr>\n",
              "      <th>7270</th>\n",
              "      <td>10409</td>\n",
              "      <td>whirlwind</td>\n",
              "      <td>Stamford &amp; Cork (&amp; Shropshire)</td>\n",
              "      <td>I moved to England five years ago today. What ...</td>\n",
              "      <td>1</td>\n",
              "    </tr>\n",
              "  </tbody>\n",
              "</table>\n",
              "<p>7613 rows × 5 columns</p>\n",
              "</div>"
            ],
            "text/plain": [
              "         id  ... target\n",
              "2644   3796  ...      1\n",
              "2227   3185  ...      0\n",
              "5448   7769  ...      1\n",
              "132     191  ...      0\n",
              "6845   9810  ...      0\n",
              "...     ...  ...    ...\n",
              "5226   7470  ...      0\n",
              "5390   7691  ...      0\n",
              "860    1242  ...      0\n",
              "7603  10862  ...      1\n",
              "7270  10409  ...      1\n",
              "\n",
              "[7613 rows x 5 columns]"
            ]
          },
          "metadata": {
            "tags": []
          },
          "execution_count": 14
        }
      ]
    },
    {
      "cell_type": "code",
      "metadata": {
        "colab": {
          "base_uri": "https://localhost:8080/"
        },
        "id": "rPbbHSHQcLLI",
        "outputId": "58bbe3a0-ff0f-472a-d2d4-926bd172dddc"
      },
      "source": [
        "data_shuffled['target'].shape, data_shuffled['text'].shape"
      ],
      "execution_count": null,
      "outputs": [
        {
          "output_type": "execute_result",
          "data": {
            "text/plain": [
              "((7613,), (7613,))"
            ]
          },
          "metadata": {
            "tags": []
          },
          "execution_count": 15
        }
      ]
    },
    {
      "cell_type": "code",
      "metadata": {
        "id": "y6Ei_iOp1FFd"
      },
      "source": [
        "from sklearn.model_selection import train_test_split\n",
        "x_train, x_test, y_train, y_test = train_test_split(np.asarray(data_shuffled['text']), np.asarray(data_shuffled['target']), test_size=.2, random_state=42)"
      ],
      "execution_count": null,
      "outputs": []
    },
    {
      "cell_type": "code",
      "metadata": {
        "colab": {
          "base_uri": "https://localhost:8080/"
        },
        "id": "_r4Wlc8Ice_Y",
        "outputId": "71787705-8a3d-474e-a68a-4b51a90c574a"
      },
      "source": [
        "x_train, y_train"
      ],
      "execution_count": null,
      "outputs": [
        {
          "output_type": "execute_result",
          "data": {
            "text/plain": [
              "(array(['Detonation fashionable mountaineering electronic watch water-resistant couples leisure tab\\x89Û_ http://t.co/E61x9Y65QD http://t.co/OVLET0gDqm',\n",
              "        \"Men escape car engulfed in flames in Parley's Canyon crews investigating cause - http://t.co/tFan6qq2Ys http://t.co/rAkwWritPo\",\n",
              "        'I-77 Mile Marker 31 to 40 South Mooresville  Iredell Vehicle Accident Congestion at 8/6 1:18 PM',\n",
              "        ...,\n",
              "        'Near them on the sand half sunk a shattered visage lies... http://t.co/0kCCG1BT06',\n",
              "        \"kesabaran membuahkan hasil indah pada saat tepat! life isn't about waiting for the storm to pass it's about learning to dance in the rain.\",\n",
              "        \"@ScottDPierce @billharris_tv @HarrisGle @Beezersun I'm forfeiting this years fantasy football pool out of fear I may win n get my ass kicked\"],\n",
              "       dtype=object), array([0, 1, 1, ..., 1, 1, 0]))"
            ]
          },
          "metadata": {
            "tags": []
          },
          "execution_count": 17
        }
      ]
    },
    {
      "cell_type": "code",
      "metadata": {
        "colab": {
          "base_uri": "https://localhost:8080/"
        },
        "id": "iWnJwjRrLgyO",
        "outputId": "85e6fc35-c23b-4d9c-fd49-711670543401"
      },
      "source": [
        "x_train"
      ],
      "execution_count": null,
      "outputs": [
        {
          "output_type": "execute_result",
          "data": {
            "text/plain": [
              "array(['Detonation fashionable mountaineering electronic watch water-resistant couples leisure tab\\x89Û_ http://t.co/E61x9Y65QD http://t.co/OVLET0gDqm',\n",
              "       \"Men escape car engulfed in flames in Parley's Canyon crews investigating cause - http://t.co/tFan6qq2Ys http://t.co/rAkwWritPo\",\n",
              "       'I-77 Mile Marker 31 to 40 South Mooresville  Iredell Vehicle Accident Congestion at 8/6 1:18 PM',\n",
              "       ...,\n",
              "       'Near them on the sand half sunk a shattered visage lies... http://t.co/0kCCG1BT06',\n",
              "       \"kesabaran membuahkan hasil indah pada saat tepat! life isn't about waiting for the storm to pass it's about learning to dance in the rain.\",\n",
              "       \"@ScottDPierce @billharris_tv @HarrisGle @Beezersun I'm forfeiting this years fantasy football pool out of fear I may win n get my ass kicked\"],\n",
              "      dtype=object)"
            ]
          },
          "metadata": {
            "tags": []
          },
          "execution_count": 18
        }
      ]
    },
    {
      "cell_type": "code",
      "metadata": {
        "id": "Dlg1f5EU4cR9"
      },
      "source": [
        "from tensorflow.keras.layers.experimental.preprocessing import TextVectorization\n",
        "text_vector = TextVectorization(max_tokens = None,\n",
        "                                standardize = \"lower_and_strip_punctuation\",\n",
        "                                split = \"whitespace\",\n",
        "                                ngrams=None,\n",
        "                                output_mode=\"int\",\n",
        "                                output_sequence_length=None,\n",
        "                                pad_to_max_tokens=False,\n",
        "                                vocabulary=None)"
      ],
      "execution_count": null,
      "outputs": []
    },
    {
      "cell_type": "code",
      "metadata": {
        "id": "q98v8CYHN0Yb",
        "colab": {
          "base_uri": "https://localhost:8080/"
        },
        "outputId": "71370633-5f31-4c0b-a9b7-a6898f6e4fdf"
      },
      "source": [
        "len(x_train[1].split())"
      ],
      "execution_count": null,
      "outputs": [
        {
          "output_type": "execute_result",
          "data": {
            "text/plain": [
              "15"
            ]
          },
          "metadata": {
            "tags": []
          },
          "execution_count": 20
        }
      ]
    },
    {
      "cell_type": "code",
      "metadata": {
        "colab": {
          "base_uri": "https://localhost:8080/"
        },
        "id": "ijojI0hFK6Az",
        "outputId": "ddc66b82-bbb7-45f1-c9f3-5d65d0f3a87f"
      },
      "source": [
        "round(sum([len(i.split()) for i in x_train])/len(x_train))"
      ],
      "execution_count": null,
      "outputs": [
        {
          "output_type": "execute_result",
          "data": {
            "text/plain": [
              "15"
            ]
          },
          "metadata": {
            "tags": []
          },
          "execution_count": 21
        }
      ]
    },
    {
      "cell_type": "code",
      "metadata": {
        "id": "Pan-rC7dL45J"
      },
      "source": [
        "vectorizer = TextVectorization(max_tokens=10000,\n",
        "                               output_mode='int',\n",
        "                               output_sequence_length=15)"
      ],
      "execution_count": null,
      "outputs": []
    },
    {
      "cell_type": "code",
      "metadata": {
        "id": "pMZyU_RfNMzy"
      },
      "source": [
        "vectorizer.adapt(x_train)"
      ],
      "execution_count": null,
      "outputs": []
    },
    {
      "cell_type": "code",
      "metadata": {
        "colab": {
          "base_uri": "https://localhost:8080/"
        },
        "id": "ENn_KhDc94zP",
        "outputId": "2ddd8c45-4d4a-46f2-e2e3-f4fe01e180c5"
      },
      "source": [
        "text = \"there is a flood hmmm near my house.\"\n",
        "vectorizer([text])"
      ],
      "execution_count": null,
      "outputs": [
        {
          "output_type": "execute_result",
          "data": {
            "text/plain": [
              "<tf.Tensor: shape=(1, 15), dtype=int64, numpy=\n",
              "array([[ 75,   9,   3, 229,   1, 228,  13, 340,   0,   0,   0,   0,   0,\n",
              "          0,   0]])>"
            ]
          },
          "metadata": {
            "tags": []
          },
          "execution_count": 24
        }
      ]
    },
    {
      "cell_type": "code",
      "metadata": {
        "colab": {
          "base_uri": "https://localhost:8080/"
        },
        "id": "PQJxNdfM-Pjs",
        "outputId": "328c492d-b88c-46df-b27b-ff592e1f0056"
      },
      "source": [
        "import random\n",
        "randomtext = random.choice(x_train)\n",
        "print(f\"sentence: {randomtext} \\n token: {vectorizer([randomtext])}\")"
      ],
      "execution_count": null,
      "outputs": [
        {
          "output_type": "stream",
          "text": [
            "sentence: #DU19 who gon get in this rap battle with me \n",
            " token: [[   1   63 5093   50    4   19 4391  424   14   32    0    0    0    0\n",
            "     0]]\n"
          ],
          "name": "stdout"
        }
      ]
    },
    {
      "cell_type": "code",
      "metadata": {
        "colab": {
          "base_uri": "https://localhost:8080/"
        },
        "id": "tUPS3Upn-9O6",
        "outputId": "e4c7bbce-6c63-49dc-9b25-87afb1139bbf"
      },
      "source": [
        "vectorizer.get_vocabulary()[-5:]"
      ],
      "execution_count": null,
      "outputs": [
        {
          "output_type": "execute_result",
          "data": {
            "text/plain": [
              "['minded', 'mindblowing', 'milne', 'milledgeville', 'millcityio']"
            ]
          },
          "metadata": {
            "tags": []
          },
          "execution_count": 26
        }
      ]
    },
    {
      "cell_type": "code",
      "metadata": {
        "colab": {
          "base_uri": "https://localhost:8080/"
        },
        "id": "XOlEjmh6_tsI",
        "outputId": "16af600b-e536-4f37-c8db-7f62f5cd8e5d"
      },
      "source": [
        "embedding = tf.keras.layers.Embedding(input_dim=10000,\n",
        "                                      output_dim=128,\n",
        "                                      input_length=15)\n",
        "embedding"
      ],
      "execution_count": null,
      "outputs": [
        {
          "output_type": "execute_result",
          "data": {
            "text/plain": [
              "<tensorflow.python.keras.layers.embeddings.Embedding at 0x7fec605cee50>"
            ]
          },
          "metadata": {
            "tags": []
          },
          "execution_count": 27
        }
      ]
    },
    {
      "cell_type": "code",
      "metadata": {
        "id": "x_uphmtEGOVZ"
      },
      "source": [
        "random_sentence = random.choice(x_train)\n",
        "embed = embedding(vectorizer([random_sentence]))"
      ],
      "execution_count": null,
      "outputs": []
    },
    {
      "cell_type": "code",
      "metadata": {
        "colab": {
          "base_uri": "https://localhost:8080/"
        },
        "id": "Fkim2RwMHQEw",
        "outputId": "a5132e2b-d166-4a1a-b924-be50db703856"
      },
      "source": [
        "embed[0][0], random_sentence"
      ],
      "execution_count": null,
      "outputs": [
        {
          "output_type": "execute_result",
          "data": {
            "text/plain": [
              "(<tf.Tensor: shape=(128,), dtype=float32, numpy=\n",
              " array([ 0.04827925, -0.04916226, -0.0361478 , -0.02583879,  0.00236101,\n",
              "        -0.0237398 ,  0.04477645, -0.00322326, -0.02275912, -0.01003336,\n",
              "         0.00314902, -0.04856696,  0.01071942,  0.01296001,  0.01970312,\n",
              "         0.03661085,  0.0401221 ,  0.02084062,  0.02088329,  0.04118999,\n",
              "         0.00917331,  0.04220584,  0.03438776,  0.01863719,  0.00537271,\n",
              "         0.00168362, -0.0068216 ,  0.04012569,  0.04223061,  0.000763  ,\n",
              "        -0.03555216, -0.044532  , -0.04435163,  0.03676864, -0.00326433,\n",
              "        -0.00205901, -0.03372165, -0.0236302 , -0.00760344, -0.01058042,\n",
              "         0.01405213, -0.03489249,  0.01292027, -0.03098271,  0.00338181,\n",
              "         0.03175927,  0.03840638, -0.03399738,  0.03563145,  0.00442259,\n",
              "        -0.03055375, -0.0050601 , -0.04674547,  0.03280604, -0.03332664,\n",
              "        -0.02820609, -0.00974796,  0.03443123, -0.01494907, -0.03010033,\n",
              "        -0.04766506,  0.01633294, -0.04448117, -0.00646234,  0.0499506 ,\n",
              "         0.01786396,  0.01989954,  0.02201053,  0.03198378,  0.04629347,\n",
              "        -0.03824352,  0.02516129, -0.02928804,  0.00512048,  0.01294509,\n",
              "        -0.04858437,  0.03128302, -0.0230365 ,  0.00041134,  0.01545843,\n",
              "         0.00804972,  0.04350268, -0.04414484,  0.02448858, -0.03889417,\n",
              "        -0.00373789, -0.02625216,  0.00600629, -0.03962807, -0.01665605,\n",
              "        -0.02849513,  0.03118709, -0.02881244, -0.0169474 , -0.0044258 ,\n",
              "        -0.04513536, -0.02785864, -0.01733462,  0.02450173,  0.04598412,\n",
              "         0.04782604, -0.02373954,  0.02357176, -0.02107179,  0.02397333,\n",
              "         0.00269332, -0.03247887, -0.02171208, -0.0273582 , -0.02021091,\n",
              "        -0.03854857, -0.03551639, -0.01175569, -0.0070092 ,  0.04153197,\n",
              "        -0.0029127 ,  0.00802014, -0.02076162,  0.04532467,  0.0335513 ,\n",
              "        -0.02869028, -0.03538181, -0.01041123,  0.04462513,  0.03976757,\n",
              "         0.01857083,  0.02697513, -0.02022454], dtype=float32)>,\n",
              " 'Tales of the #trees #deep water loving #Lake Tahoe. And no #forest fires https://t.co/xuhMJ098Lq')"
            ]
          },
          "metadata": {
            "tags": []
          },
          "execution_count": 29
        }
      ]
    },
    {
      "cell_type": "markdown",
      "metadata": {
        "id": "mHaoi81daYmK"
      },
      "source": [
        "# Implementing in sklearn"
      ]
    },
    {
      "cell_type": "code",
      "metadata": {
        "id": "fguswGdHHRKr"
      },
      "source": [
        "from sklearn.feature_extraction.text import TfidfVectorizer\n",
        "from sklearn.naive_bayes import MultinomialNB\n",
        "from sklearn.pipeline import Pipeline\n",
        "\n",
        "model_0 = Pipeline([\n",
        "                    (\"vecto\", TfidfVectorizer()),\n",
        "                    (\"nb\", MultinomialNB())\n",
        "])"
      ],
      "execution_count": null,
      "outputs": []
    },
    {
      "cell_type": "code",
      "metadata": {
        "colab": {
          "base_uri": "https://localhost:8080/"
        },
        "id": "qxJmG6dgbxdy",
        "outputId": "fa3ef38d-9df5-4acf-91e1-4e661dc52294"
      },
      "source": [
        "x_train.shape, y_train.shape"
      ],
      "execution_count": null,
      "outputs": [
        {
          "output_type": "execute_result",
          "data": {
            "text/plain": [
              "((6090,), (6090,))"
            ]
          },
          "metadata": {
            "tags": []
          },
          "execution_count": 31
        }
      ]
    },
    {
      "cell_type": "code",
      "metadata": {
        "colab": {
          "base_uri": "https://localhost:8080/"
        },
        "id": "0GwkWPy-a16O",
        "outputId": "a06a786f-edff-4da7-ff57-b52f22f3cf5c"
      },
      "source": [
        "model_0.fit(x_train, y_train)"
      ],
      "execution_count": null,
      "outputs": [
        {
          "output_type": "execute_result",
          "data": {
            "text/plain": [
              "Pipeline(memory=None,\n",
              "         steps=[('vecto',\n",
              "                 TfidfVectorizer(analyzer='word', binary=False,\n",
              "                                 decode_error='strict',\n",
              "                                 dtype=<class 'numpy.float64'>,\n",
              "                                 encoding='utf-8', input='content',\n",
              "                                 lowercase=True, max_df=1.0, max_features=None,\n",
              "                                 min_df=1, ngram_range=(1, 1), norm='l2',\n",
              "                                 preprocessor=None, smooth_idf=True,\n",
              "                                 stop_words=None, strip_accents=None,\n",
              "                                 sublinear_tf=False,\n",
              "                                 token_pattern='(?u)\\\\b\\\\w\\\\w+\\\\b',\n",
              "                                 tokenizer=None, use_idf=True,\n",
              "                                 vocabulary=None)),\n",
              "                ('nb',\n",
              "                 MultinomialNB(alpha=1.0, class_prior=None, fit_prior=True))],\n",
              "         verbose=False)"
            ]
          },
          "metadata": {
            "tags": []
          },
          "execution_count": 32
        }
      ]
    },
    {
      "cell_type": "code",
      "metadata": {
        "colab": {
          "base_uri": "https://localhost:8080/"
        },
        "id": "Im93n4JkbK4f",
        "outputId": "8b740514-9303-4beb-91b9-ac1f8491752c"
      },
      "source": [
        "model_0.score(x_test, y_test)"
      ],
      "execution_count": null,
      "outputs": [
        {
          "output_type": "execute_result",
          "data": {
            "text/plain": [
              "0.799080761654629"
            ]
          },
          "metadata": {
            "tags": []
          },
          "execution_count": 33
        }
      ]
    },
    {
      "cell_type": "code",
      "metadata": {
        "id": "k3BiNudUerXv"
      },
      "source": [
        "preds = model_0.predict(x_test)"
      ],
      "execution_count": null,
      "outputs": []
    },
    {
      "cell_type": "code",
      "metadata": {
        "id": "dhOVzQpZcv2z"
      },
      "source": [
        "from sklearn.metrics import classification_report, confusion_matrix\n",
        "cm = confusion_matrix(y_test, preds)"
      ],
      "execution_count": null,
      "outputs": []
    },
    {
      "cell_type": "code",
      "metadata": {
        "colab": {
          "base_uri": "https://localhost:8080/"
        },
        "id": "W1ZdnfJEe9Df",
        "outputId": "c0357d59-bcbf-4602-dd6c-522fa8136b27"
      },
      "source": [
        "cm"
      ],
      "execution_count": null,
      "outputs": [
        {
          "output_type": "execute_result",
          "data": {
            "text/plain": [
              "array([[803,  55],\n",
              "       [251, 414]])"
            ]
          },
          "metadata": {
            "tags": []
          },
          "execution_count": 36
        }
      ]
    },
    {
      "cell_type": "code",
      "metadata": {
        "colab": {
          "base_uri": "https://localhost:8080/",
          "height": 288
        },
        "id": "IbzBJ6DOe1z_",
        "outputId": "8b9f9f46-59c4-4829-f3f9-d4ff29cb76ea"
      },
      "source": [
        "sns.heatmap(cm, annot=True)"
      ],
      "execution_count": null,
      "outputs": [
        {
          "output_type": "execute_result",
          "data": {
            "text/plain": [
              "<matplotlib.axes._subplots.AxesSubplot at 0x7fec60462450>"
            ]
          },
          "metadata": {
            "tags": []
          },
          "execution_count": 37
        },
        {
          "output_type": "display_data",
          "data": {
            "image/png": "[encoded data removed]",
            "text/plain": [
              "<Figure size 432x288 with 2 Axes>"
            ]
          },
          "metadata": {
            "tags": [],
            "needs_background": "light"
          }
        }
      ]
    },
    {
      "cell_type": "code",
      "metadata": {
        "colab": {
          "base_uri": "https://localhost:8080/"
        },
        "id": "7C42Aorwe5Xp",
        "outputId": "99f4dd6f-3fd6-4a17-8efb-8a774801236f"
      },
      "source": [
        "print(classification_report(y_test, preds))"
      ],
      "execution_count": null,
      "outputs": [
        {
          "output_type": "stream",
          "text": [
            "              precision    recall  f1-score   support\n",
            "\n",
            "           0       0.76      0.94      0.84       858\n",
            "           1       0.88      0.62      0.73       665\n",
            "\n",
            "    accuracy                           0.80      1523\n",
            "   macro avg       0.82      0.78      0.79      1523\n",
            "weighted avg       0.81      0.80      0.79      1523\n",
            "\n"
          ],
          "name": "stdout"
        }
      ]
    },
    {
      "cell_type": "markdown",
      "metadata": {
        "id": "z3YMvbR-hCcg"
      },
      "source": [
        "# DL model for text"
      ]
    },
    {
      "cell_type": "code",
      "metadata": {
        "id": "7-tA05dJhB26"
      },
      "source": [
        "from helper_functions import create_tensorboard_callback"
      ],
      "execution_count": null,
      "outputs": []
    },
    {
      "cell_type": "code",
      "metadata": {
        "id": "MIM77RvnfKZI"
      },
      "source": [
        "inputs = tf.keras.layers.Input(shape=(1,), dtype=tf.string)\n",
        "x = vectorizer(inputs)\n",
        "x = embedding(x)\n",
        "x = tf.keras.layers.GlobalAveragePooling1D()(x)\n",
        "outputs = tf.keras.layers.Dense(1, activation='sigmoid')(x)\n",
        "\n",
        "model_1 = tf.keras.Model(inputs, outputs)\n",
        "\n",
        "model_1.compile(loss='binary_crossentropy', metrics=['accuracy'], optimizer=tf.keras.optimizers.Adam())"
      ],
      "execution_count": null,
      "outputs": []
    },
    {
      "cell_type": "code",
      "metadata": {
        "colab": {
          "base_uri": "https://localhost:8080/"
        },
        "id": "NAXn7M6BiWJj",
        "outputId": "c6f6015e-0677-4946-ca3e-508599872cf8"
      },
      "source": [
        "history_model_1 = model_1.fit(x_train, y_train,\n",
        "                              epochs=5,\n",
        "                              validation_data=(x_test, y_test),\n",
        "                              callbacks=[create_tensorboard_callback(dir_name=\"tensorboard\",\n",
        "                                                                     experiment_name=\"model_1\")])"
      ],
      "execution_count": null,
      "outputs": [
        {
          "output_type": "stream",
          "text": [
            "Saving TensorBoard log files to: tensorboard/model_1/20210803-132325\n",
            "Epoch 1/5\n",
            "191/191 [==============================] - 7s 18ms/step - loss: 0.6216 - accuracy: 0.6813 - val_loss: 0.5485 - val_accuracy: 0.7492\n",
            "Epoch 2/5\n",
            "191/191 [==============================] - 3s 14ms/step - loss: 0.4522 - accuracy: 0.8128 - val_loss: 0.4754 - val_accuracy: 0.7886\n",
            "Epoch 3/5\n",
            "191/191 [==============================] - 3s 14ms/step - loss: 0.3514 - accuracy: 0.8616 - val_loss: 0.4614 - val_accuracy: 0.7899\n",
            "Epoch 4/5\n",
            "191/191 [==============================] - 3s 14ms/step - loss: 0.2851 - accuracy: 0.8901 - val_loss: 0.4637 - val_accuracy: 0.7905\n",
            "Epoch 5/5\n",
            "191/191 [==============================] - 3s 14ms/step - loss: 0.2352 - accuracy: 0.9149 - val_loss: 0.4791 - val_accuracy: 0.7892\n"
          ],
          "name": "stdout"
        }
      ]
    },
    {
      "cell_type": "code",
      "metadata": {
        "colab": {
          "base_uri": "https://localhost:8080/",
          "height": 285
        },
        "id": "HUceKqfYsUyG",
        "outputId": "770344a3-28af-4a8f-c62f-8c759eb53e9e"
      },
      "source": [
        "pd.DataFrame(history_model_1.history).plot()"
      ],
      "execution_count": null,
      "outputs": [
        {
          "output_type": "execute_result",
          "data": {
            "text/plain": [
              "<matplotlib.axes._subplots.AxesSubplot at 0x7fec166a2090>"
            ]
          },
          "metadata": {
            "tags": []
          },
          "execution_count": 42
        },
        {
          "output_type": "display_data",
          "data": {
            "image/png": "[encoded data removed]",
            "text/plain": [
              "<Figure size 432x288 with 1 Axes>"
            ]
          },
          "metadata": {
            "tags": [],
            "needs_background": "light"
          }
        }
      ]
    },
    {
      "cell_type": "code",
      "metadata": {
        "colab": {
          "base_uri": "https://localhost:8080/"
        },
        "id": "R2WIlnPhjUNi",
        "outputId": "cf6f8fc8-1043-4efe-b2cb-aff83d6de6ed"
      },
      "source": [
        "model_1.evaluate(x_test, y_test)"
      ],
      "execution_count": null,
      "outputs": [
        {
          "output_type": "stream",
          "text": [
            "48/48 [==============================] - 0s 3ms/step - loss: 0.4791 - accuracy: 0.7892\n"
          ],
          "name": "stdout"
        },
        {
          "output_type": "execute_result",
          "data": {
            "text/plain": [
              "[0.479086697101593, 0.7892317771911621]"
            ]
          },
          "metadata": {
            "tags": []
          },
          "execution_count": 43
        }
      ]
    },
    {
      "cell_type": "code",
      "metadata": {
        "colab": {
          "base_uri": "https://localhost:8080/"
        },
        "id": "QjpJP0XSjjWE",
        "outputId": "3988adb7-3351-4516-b0c4-f2d8c4d692be"
      },
      "source": [
        "model_1.summary()"
      ],
      "execution_count": null,
      "outputs": [
        {
          "output_type": "stream",
          "text": [
            "Model: \"model\"\n",
            "_________________________________________________________________\n",
            "Layer (type)                 Output Shape              Param #   \n",
            "=================================================================\n",
            "input_1 (InputLayer)         [(None, 1)]               0         \n",
            "_________________________________________________________________\n",
            "text_vectorization_1 (TextVe (None, 15)                0         \n",
            "_________________________________________________________________\n",
            "embedding (Embedding)        (None, 15, 128)           1280000   \n",
            "_________________________________________________________________\n",
            "global_average_pooling1d (Gl (None, 128)               0         \n",
            "_________________________________________________________________\n",
            "dense (Dense)                (None, 1)                 129       \n",
            "=================================================================\n",
            "Total params: 1,280,129\n",
            "Trainable params: 1,280,129\n",
            "Non-trainable params: 0\n",
            "_________________________________________________________________\n"
          ],
          "name": "stdout"
        }
      ]
    },
    {
      "cell_type": "code",
      "metadata": {
        "id": "ydQqADkyr2xQ"
      },
      "source": [
        "pred_1 = model_1.predict(x_test)"
      ],
      "execution_count": null,
      "outputs": []
    },
    {
      "cell_type": "code",
      "metadata": {
        "colab": {
          "base_uri": "https://localhost:8080/",
          "height": 35
        },
        "id": "c-A7yttguOwR",
        "outputId": "19c8b0e8-d64f-4da8-b42d-208038169a75"
      },
      "source": [
        "x_test[4]"
      ],
      "execution_count": null,
      "outputs": [
        {
          "output_type": "execute_result",
          "data": {
            "application/vnd.google.colaboratory.intrinsic+json": {
              "type": "string"
            },
            "text/plain": [
              "'Radiation emergency #preparedness starts with knowing to: get inside stay inside and stay tuned http://t.co/RFFPqBAz2F via @CDCgov'"
            ]
          },
          "metadata": {
            "tags": []
          },
          "execution_count": 46
        }
      ]
    },
    {
      "cell_type": "code",
      "metadata": {
        "colab": {
          "base_uri": "https://localhost:8080/"
        },
        "id": "Qcw7HrhWuFQt",
        "outputId": "92e406d2-45a1-4c7f-d8ad-4549b725310a"
      },
      "source": [
        "y_test.shape"
      ],
      "execution_count": null,
      "outputs": [
        {
          "output_type": "execute_result",
          "data": {
            "text/plain": [
              "(1523,)"
            ]
          },
          "metadata": {
            "tags": []
          },
          "execution_count": 47
        }
      ]
    },
    {
      "cell_type": "code",
      "metadata": {
        "colab": {
          "base_uri": "https://localhost:8080/",
          "height": 285
        },
        "id": "Wzd6fiovsv48",
        "outputId": "d0689759-439b-4112-a613-12293709103e"
      },
      "source": [
        "sns.heatmap(confusion_matrix(y_test, tf.squeeze(pred_1.round())), annot=True, cmap='Blues')"
      ],
      "execution_count": null,
      "outputs": [
        {
          "output_type": "execute_result",
          "data": {
            "text/plain": [
              "<matplotlib.axes._subplots.AxesSubplot at 0x7fec16536050>"
            ]
          },
          "metadata": {
            "tags": []
          },
          "execution_count": 48
        },
        {
          "output_type": "display_data",
          "data": {
            "image/png": "[encoded data removed]",
            "text/plain": [
              "<Figure size 432x288 with 2 Axes>"
            ]
          },
          "metadata": {
            "tags": [],
            "needs_background": "light"
          }
        }
      ]
    },
    {
      "cell_type": "code",
      "metadata": {
        "colab": {
          "base_uri": "https://localhost:8080/"
        },
        "id": "UXigbYxzsxXQ",
        "outputId": "530aeb38-1e29-40db-cfea-bbcc8a45725c"
      },
      "source": [
        "print(classification_report(y_test, tf.squeeze(pred_1.round())))"
      ],
      "execution_count": null,
      "outputs": [
        {
          "output_type": "stream",
          "text": [
            "              precision    recall  f1-score   support\n",
            "\n",
            "           0       0.78      0.88      0.82       858\n",
            "           1       0.81      0.67      0.74       665\n",
            "\n",
            "    accuracy                           0.79      1523\n",
            "   macro avg       0.79      0.78      0.78      1523\n",
            "weighted avg       0.79      0.79      0.79      1523\n",
            "\n"
          ],
          "name": "stdout"
        }
      ]
    },
    {
      "cell_type": "code",
      "metadata": {
        "id": "R_OXxIuGvUKy"
      },
      "source": [
        "# embed_layer = model_1.get_layer(\"embedding\").get_weights()[0]\n",
        "# embed_layer"
      ],
      "execution_count": null,
      "outputs": []
    },
    {
      "cell_type": "code",
      "metadata": {
        "id": "eXRi0lpEe9As"
      },
      "source": [
        "# import io\n",
        "# vocab = vectorizer.get_vocabulary()\n",
        "# out_v = io.open('vectors.tsv', 'w', encoding='utf-8')\n",
        "# out_m = io.open('metadata.tsv', 'w', encoding='utf-8')\n",
        "\n",
        "# for index, word in enumerate(vocab):\n",
        "#   if index == 0:\n",
        "#     continue  # skip 0, it's padding.\n",
        "#   vec = embed_layer[index]\n",
        "#   out_v.write('\\t'.join([str(x) for x in vec]) + \"\\n\")\n",
        "#   out_m.write(word + \"\\n\")\n",
        "# out_v.close()\n",
        "# out_m.close()"
      ],
      "execution_count": null,
      "outputs": []
    },
    {
      "cell_type": "code",
      "metadata": {
        "id": "BangjjCdkD2y"
      },
      "source": [
        "# try:\n",
        "#   from google.colab import files\n",
        "#   files.download('vectors.tsv')\n",
        "#   files.download('metadata.tsv')\n",
        "# except Exception:\n",
        "#   pass"
      ],
      "execution_count": null,
      "outputs": []
    },
    {
      "cell_type": "code",
      "metadata": {
        "id": "oFNEUQeXk6vN"
      },
      "source": [
        "# len(vectorizer.get_vocabulary())"
      ],
      "execution_count": null,
      "outputs": []
    },
    {
      "cell_type": "code",
      "metadata": {
        "id": "hmUt1uwJmFMe"
      },
      "source": [
        "# vector = pd.read_csv(\"/content/vectors.tsv\",\n",
        "#                      sep='\\t')\n",
        "# metadata = pd.read_csv(\"/content/metadata.tsv\",\n",
        "#                      sep='\\t')"
      ],
      "execution_count": null,
      "outputs": []
    },
    {
      "cell_type": "code",
      "metadata": {
        "id": "av9oSsGemWG6"
      },
      "source": [
        "# vector.shape, metadata.shape"
      ],
      "execution_count": null,
      "outputs": []
    },
    {
      "cell_type": "markdown",
      "metadata": {
        "id": "Lh-3cKrQ_cBt"
      },
      "source": [
        "# Model_2: LSTM"
      ]
    },
    {
      "cell_type": "code",
      "metadata": {
        "id": "Vlg1doremYfv"
      },
      "source": [
        "from tensorflow.keras import layers\n",
        "\n",
        "inputs = layers.Input(shape=(1,), dtype=tf.string)\n",
        "x = vectorizer(inputs)\n",
        "x = embedding(x)\n",
        "# x = layers.LSTM(64, return_sequences=True)(x)\n",
        "x = layers.GRU(64)(x)\n",
        "# x = layers.Dense(64)(x)\n",
        "outputs = layers.Dense(1, activation='sigmoid')(x)\n",
        "model_2 = tf.keras.Model(inputs, outputs)\n",
        "model_2.compile(loss=\"binary_crossentropy\", metrics=[\"accuracy\"], optimizer=tf.keras.optimizers.Adam())"
      ],
      "execution_count": null,
      "outputs": []
    },
    {
      "cell_type": "code",
      "metadata": {
        "colab": {
          "base_uri": "https://localhost:8080/"
        },
        "id": "75ir5ooTAof7",
        "outputId": "2995f76c-3068-4ef9-d6c6-eb8861b2c644"
      },
      "source": [
        "history_model_2 = model_2.fit(x_train, y_train,\n",
        "                              epochs=5,\n",
        "                              validation_data=(x_test, y_test),\n",
        "                              callbacks=[create_tensorboard_callback(dir_name=\"tensorboard\",\n",
        "                                                                     experiment_name=\"model_2\")])"
      ],
      "execution_count": null,
      "outputs": [
        {
          "output_type": "stream",
          "text": [
            "Saving TensorBoard log files to: tensorboard/model_2/20210803-132348\n",
            "Epoch 1/5\n",
            "191/191 [==============================] - 9s 23ms/step - loss: 0.2444 - accuracy: 0.8959 - val_loss: 0.5812 - val_accuracy: 0.7919\n",
            "Epoch 2/5\n",
            "191/191 [==============================] - 3s 17ms/step - loss: 0.1461 - accuracy: 0.9452 - val_loss: 0.6647 - val_accuracy: 0.7866\n",
            "Epoch 3/5\n",
            "191/191 [==============================] - 3s 18ms/step - loss: 0.1182 - accuracy: 0.9547 - val_loss: 0.6265 - val_accuracy: 0.7722\n",
            "Epoch 4/5\n",
            "191/191 [==============================] - 3s 17ms/step - loss: 0.0990 - accuracy: 0.9644 - val_loss: 0.7268 - val_accuracy: 0.7774\n",
            "Epoch 5/5\n",
            "191/191 [==============================] - 3s 17ms/step - loss: 0.0825 - accuracy: 0.9696 - val_loss: 0.7438 - val_accuracy: 0.7702\n"
          ],
          "name": "stdout"
        }
      ]
    },
    {
      "cell_type": "code",
      "metadata": {
        "colab": {
          "base_uri": "https://localhost:8080/"
        },
        "id": "NrdrUfUR_n0C",
        "outputId": "8068cb25-46bc-4d44-f71e-4400d577095c"
      },
      "source": [
        "model_2.summary()"
      ],
      "execution_count": null,
      "outputs": [
        {
          "output_type": "stream",
          "text": [
            "Model: \"model_1\"\n",
            "_________________________________________________________________\n",
            "Layer (type)                 Output Shape              Param #   \n",
            "=================================================================\n",
            "input_2 (InputLayer)         [(None, 1)]               0         \n",
            "_________________________________________________________________\n",
            "text_vectorization_1 (TextVe (None, 15)                0         \n",
            "_________________________________________________________________\n",
            "embedding (Embedding)        (None, 15, 128)           1280000   \n",
            "_________________________________________________________________\n",
            "gru (GRU)                    (None, 64)                37248     \n",
            "_________________________________________________________________\n",
            "dense_1 (Dense)              (None, 1)                 65        \n",
            "=================================================================\n",
            "Total params: 1,317,313\n",
            "Trainable params: 1,317,313\n",
            "Non-trainable params: 0\n",
            "_________________________________________________________________\n"
          ],
          "name": "stdout"
        }
      ]
    },
    {
      "cell_type": "code",
      "metadata": {
        "id": "-Ta2u_XhAPhu"
      },
      "source": [
        "model_2_preds = model_2.predict(x_test).round()"
      ],
      "execution_count": null,
      "outputs": []
    },
    {
      "cell_type": "code",
      "metadata": {
        "colab": {
          "base_uri": "https://localhost:8080/"
        },
        "id": "k6eqD5FPBZGG",
        "outputId": "6a945c77-7cef-4c9d-e500-020fcc0c101e"
      },
      "source": [
        "model_2_preds"
      ],
      "execution_count": null,
      "outputs": [
        {
          "output_type": "execute_result",
          "data": {
            "text/plain": [
              "array([[1.],\n",
              "       [1.],\n",
              "       [1.],\n",
              "       ...,\n",
              "       [1.],\n",
              "       [1.],\n",
              "       [1.]], dtype=float32)"
            ]
          },
          "metadata": {
            "tags": []
          },
          "execution_count": 60
        }
      ]
    },
    {
      "cell_type": "code",
      "metadata": {
        "id": "OIgNCRG0Bbun",
        "colab": {
          "base_uri": "https://localhost:8080/"
        },
        "outputId": "a7eb4b52-2716-47f6-e0ff-92f557276a6a"
      },
      "source": [
        "cm = confusion_matrix(y_test, model_2_preds)\n",
        "cm"
      ],
      "execution_count": null,
      "outputs": [
        {
          "output_type": "execute_result",
          "data": {
            "text/plain": [
              "array([[691, 167],\n",
              "       [183, 482]])"
            ]
          },
          "metadata": {
            "tags": []
          },
          "execution_count": 61
        }
      ]
    },
    {
      "cell_type": "code",
      "metadata": {
        "colab": {
          "base_uri": "https://localhost:8080/",
          "height": 285
        },
        "id": "JmL5X5QqBmUT",
        "outputId": "4f4983b9-51cf-4a7a-ca55-4acdc91aade7"
      },
      "source": [
        "sns.heatmap(cm, annot=True, cmap='Blues')"
      ],
      "execution_count": null,
      "outputs": [
        {
          "output_type": "execute_result",
          "data": {
            "text/plain": [
              "<matplotlib.axes._subplots.AxesSubplot at 0x7fec235ca7d0>"
            ]
          },
          "metadata": {
            "tags": []
          },
          "execution_count": 62
        },
        {
          "output_type": "display_data",
          "data": {
            "image/png": "[encoded data removed]",
            "text/plain": [
              "<Figure size 432x288 with 2 Axes>"
            ]
          },
          "metadata": {
            "tags": [],
            "needs_background": "light"
          }
        }
      ]
    },
    {
      "cell_type": "code",
      "metadata": {
        "colab": {
          "base_uri": "https://localhost:8080/"
        },
        "id": "9f_eu6wuBqaT",
        "outputId": "1dc16a37-7dbd-4bad-d251-1500166dd895"
      },
      "source": [
        "print(classification_report(y_test, model_2_preds))"
      ],
      "execution_count": null,
      "outputs": [
        {
          "output_type": "stream",
          "text": [
            "              precision    recall  f1-score   support\n",
            "\n",
            "           0       0.79      0.81      0.80       858\n",
            "           1       0.74      0.72      0.73       665\n",
            "\n",
            "    accuracy                           0.77      1523\n",
            "   macro avg       0.77      0.77      0.77      1523\n",
            "weighted avg       0.77      0.77      0.77      1523\n",
            "\n"
          ],
          "name": "stdout"
        }
      ]
    },
    {
      "cell_type": "markdown",
      "metadata": {
        "id": "iu3iwO2EAjQZ"
      },
      "source": [
        "# Model_3"
      ]
    },
    {
      "cell_type": "code",
      "metadata": {
        "id": "FdtN_29zAoon"
      },
      "source": [
        "from tensorflow.keras import layers\n",
        "\n",
        "inputs = layers.Input(shape=(1,), dtype=tf.string)\n",
        "x = vectorizer(inputs)\n",
        "x = embedding(x)\n",
        "x = layers.GRU(16, return_sequences=True)(x)\n",
        "# x = layers.LSTM(16, return_sequences=True)(x)\n",
        "x = layers.GRU(16)(x)\n",
        "# x = layers.Dense(64, activation='relu')(x)\n",
        "outputs = layers.Dense(1, activation='sigmoid')(x)\n",
        "model_3 = tf.keras.Model(inputs, outputs)\n",
        "model_3.compile(loss=\"binary_crossentropy\", metrics=[\"accuracy\"], optimizer=tf.keras.optimizers.Adam())"
      ],
      "execution_count": null,
      "outputs": []
    },
    {
      "cell_type": "code",
      "metadata": {
        "colab": {
          "base_uri": "https://localhost:8080/"
        },
        "id": "GWo6Y1NlA59S",
        "outputId": "937e35f2-80e2-4aee-adbd-bea8664ddf0b"
      },
      "source": [
        "history_model_3 = model_3.fit(x_train, y_train,\n",
        "                              epochs=5,\n",
        "                              validation_data=(x_test, y_test),\n",
        "                              callbacks=[create_tensorboard_callback(dir_name=\"tensorboard\",\n",
        "                                                                     experiment_name=\"model_3\")])"
      ],
      "execution_count": null,
      "outputs": [
        {
          "output_type": "stream",
          "text": [
            "Saving TensorBoard log files to: tensorboard/model_3/20210803-132413\n",
            "Epoch 1/5\n",
            "191/191 [==============================] - 7s 24ms/step - loss: 0.2097 - accuracy: 0.9250 - val_loss: 0.6965 - val_accuracy: 0.7833\n",
            "Epoch 2/5\n",
            "191/191 [==============================] - 4s 20ms/step - loss: 0.0889 - accuracy: 0.9690 - val_loss: 0.7332 - val_accuracy: 0.7827\n",
            "Epoch 3/5\n",
            "191/191 [==============================] - 4s 19ms/step - loss: 0.0728 - accuracy: 0.9764 - val_loss: 0.7624 - val_accuracy: 0.7787\n",
            "Epoch 4/5\n",
            "191/191 [==============================] - 4s 19ms/step - loss: 0.0652 - accuracy: 0.9765 - val_loss: 0.8431 - val_accuracy: 0.7630\n",
            "Epoch 5/5\n",
            "191/191 [==============================] - 4s 19ms/step - loss: 0.0602 - accuracy: 0.9775 - val_loss: 0.8169 - val_accuracy: 0.7735\n"
          ],
          "name": "stdout"
        }
      ]
    },
    {
      "cell_type": "code",
      "metadata": {
        "colab": {
          "base_uri": "https://localhost:8080/",
          "height": 285
        },
        "id": "P0uJ35IpA-dN",
        "outputId": "ae635a76-19fe-4882-c72b-a68d63900e9e"
      },
      "source": [
        "pd.DataFrame(history_model_3.history).plot()"
      ],
      "execution_count": null,
      "outputs": [
        {
          "output_type": "execute_result",
          "data": {
            "text/plain": [
              "<matplotlib.axes._subplots.AxesSubplot at 0x7fec22be2dd0>"
            ]
          },
          "metadata": {
            "tags": []
          },
          "execution_count": 66
        },
        {
          "output_type": "display_data",
          "data": {
            "image/png": "[encoded data removed]",
            "text/plain": [
              "<Figure size 432x288 with 1 Axes>"
            ]
          },
          "metadata": {
            "tags": [],
            "needs_background": "light"
          }
        }
      ]
    },
    {
      "cell_type": "markdown",
      "metadata": {
        "id": "Qs8U8fVNBVk2"
      },
      "source": [
        "# Model_4"
      ]
    },
    {
      "cell_type": "code",
      "metadata": {
        "id": "FGBOj4K-EAlF"
      },
      "source": [
        "from tensorflow.keras import layers\n",
        "\n",
        "inputs = layers.Input(shape=(1,), dtype=tf.string)\n",
        "x = vectorizer(inputs)\n",
        "x = embedding(x)\n",
        "# x = layers.GRU(16, return_sequences=True)(x)\n",
        "# x = layers.LSTM(16)(x)\n",
        "x = layers.Bidirectional(layers.LSTM(64,return_sequences=True))(x)\n",
        "x = layers.Bidirectional(layers.GRU(64))(x)\n",
        "# x = layers.Dense(64, activation='relu')(x)\n",
        "outputs = layers.Dense(1, activation='sigmoid')(x)\n",
        "model_4 = tf.keras.Model(inputs, outputs)\n",
        "model_4.compile(loss=\"binary_crossentropy\", metrics=[\"accuracy\"], optimizer=tf.keras.optimizers.Adam())"
      ],
      "execution_count": null,
      "outputs": []
    },
    {
      "cell_type": "code",
      "metadata": {
        "colab": {
          "base_uri": "https://localhost:8080/"
        },
        "id": "R2KMS1FqEGGC",
        "outputId": "152d4e77-9026-4e45-f84e-6eeea3bf2573"
      },
      "source": [
        "history_model_4 = model_4.fit(x_train, y_train,\n",
        "                              epochs=5,\n",
        "                              validation_data=(x_test, y_test),\n",
        "                              callbacks=[create_tensorboard_callback(dir_name=\"tensorboard\",\n",
        "                                                                     experiment_name=\"model_4\")])"
      ],
      "execution_count": null,
      "outputs": [
        {
          "output_type": "stream",
          "text": [
            "Saving TensorBoard log files to: tensorboard/model_4/20210803-132436\n",
            "Epoch 1/5\n",
            "191/191 [==============================] - 12s 34ms/step - loss: 0.0922 - accuracy: 0.9737 - val_loss: 0.8425 - val_accuracy: 0.7663\n",
            "Epoch 2/5\n",
            "191/191 [==============================] - 4s 23ms/step - loss: 0.0567 - accuracy: 0.9788 - val_loss: 1.0747 - val_accuracy: 0.7735\n",
            "Epoch 3/5\n",
            "191/191 [==============================] - 4s 23ms/step - loss: 0.0486 - accuracy: 0.9801 - val_loss: 1.0250 - val_accuracy: 0.7623\n",
            "Epoch 4/5\n",
            "191/191 [==============================] - 4s 22ms/step - loss: 0.0414 - accuracy: 0.9821 - val_loss: 1.2384 - val_accuracy: 0.7722\n",
            "Epoch 5/5\n",
            "191/191 [==============================] - 4s 22ms/step - loss: 0.0378 - accuracy: 0.9826 - val_loss: 1.5500 - val_accuracy: 0.7676\n"
          ],
          "name": "stdout"
        }
      ]
    },
    {
      "cell_type": "code",
      "metadata": {
        "colab": {
          "base_uri": "https://localhost:8080/",
          "height": 285
        },
        "id": "176IigafHR8x",
        "outputId": "611a920c-b891-42c1-d255-6cf48a539491"
      },
      "source": [
        " pd.DataFrame(history_model_4.history).plot()"
      ],
      "execution_count": null,
      "outputs": [
        {
          "output_type": "execute_result",
          "data": {
            "text/plain": [
              "<matplotlib.axes._subplots.AxesSubplot at 0x7fec0a59c490>"
            ]
          },
          "metadata": {
            "tags": []
          },
          "execution_count": 69
        },
        {
          "output_type": "display_data",
          "data": {
            "image/png": "[encoded data removed]",
            "text/plain": [
              "<Figure size 432x288 with 1 Axes>"
            ]
          },
          "metadata": {
            "tags": [],
            "needs_background": "light"
          }
        }
      ]
    },
    {
      "cell_type": "markdown",
      "metadata": {
        "id": "SIH_LyPeMPjE"
      },
      "source": [
        "# Model_4"
      ]
    },
    {
      "cell_type": "code",
      "metadata": {
        "id": "KLQeCq-uRB5d"
      },
      "source": [
        "from tensorflow.keras import layers\n",
        "conv = layers.Conv1D(filters=32,\n",
        "                        kernel_size=5,\n",
        "                        strides=1,\n",
        "                        padding=\"valid\",\n",
        "                        activation='relu')\n",
        "maxpool = layers.GlobalMaxPool1D()"
      ],
      "execution_count": null,
      "outputs": []
    },
    {
      "cell_type": "code",
      "metadata": {
        "colab": {
          "base_uri": "https://localhost:8080/"
        },
        "id": "khmKoRs0R9-o",
        "outputId": "ec53d158-9089-4a1a-da08-d220dba10d7a"
      },
      "source": [
        "embedding_text = embedding(vectorizer([\"This is manan jain\"]))\n",
        "conv_output = conv(embedding_text)\n",
        "maxpool_output = maxpool(conv_output)\n",
        "\n",
        "embedding_text.shape, conv_output.shape, maxpool_output.shape"
      ],
      "execution_count": null,
      "outputs": [
        {
          "output_type": "execute_result",
          "data": {
            "text/plain": [
              "(TensorShape([1, 15, 128]), TensorShape([1, 11, 32]), TensorShape([1, 32]))"
            ]
          },
          "metadata": {
            "tags": []
          },
          "execution_count": 71
        }
      ]
    },
    {
      "cell_type": "code",
      "metadata": {
        "id": "XbJdGc8KSunu"
      },
      "source": [
        "inputs = layers.Input(shape=(1, ), dtype=tf.string)\n",
        "x = vectorizer(inputs)\n",
        "x = embedding(x)\n",
        "x = conv(x)\n",
        "x = maxpool(x)\n",
        "outputs = layers.Dense(1, activation=\"sigmoid\")(x)\n",
        "model_5 = tf.keras.Model(inputs, outputs)\n",
        "\n",
        "model_5.compile(loss=\"binary_crossentropy\", optimizer=tf.keras.optimizers.Adam(), metrics=[\"accuracy\"])"
      ],
      "execution_count": null,
      "outputs": []
    },
    {
      "cell_type": "code",
      "metadata": {
        "colab": {
          "base_uri": "https://localhost:8080/"
        },
        "id": "DwK1REkiVU-t",
        "outputId": "a6d8a32e-ed0a-4036-9a3f-22e9d30a2efa"
      },
      "source": [
        "history_model_5 = model_5.fit(x_train, y_train,\n",
        "                              epochs = 5,\n",
        "                              validation_data=(x_test, y_test),\n",
        "                              callbacks = [create_tensorboard_callback(\"tensorboard\",\n",
        "                                                                       \"model_5\")])"
      ],
      "execution_count": null,
      "outputs": [
        {
          "output_type": "stream",
          "text": [
            "Saving TensorBoard log files to: tensorboard/model_5/20210803-132547\n",
            "Epoch 1/5\n",
            "191/191 [==============================] - 6s 21ms/step - loss: 0.1278 - accuracy: 0.9660 - val_loss: 0.8492 - val_accuracy: 0.7807\n",
            "Epoch 2/5\n",
            "191/191 [==============================] - 3s 15ms/step - loss: 0.0653 - accuracy: 0.9765 - val_loss: 0.9889 - val_accuracy: 0.7538\n",
            "Epoch 3/5\n",
            "191/191 [==============================] - 3s 15ms/step - loss: 0.0532 - accuracy: 0.9780 - val_loss: 1.0720 - val_accuracy: 0.7597\n",
            "Epoch 4/5\n",
            "191/191 [==============================] - 3s 15ms/step - loss: 0.0484 - accuracy: 0.9800 - val_loss: 1.1122 - val_accuracy: 0.7564\n",
            "Epoch 5/5\n",
            "191/191 [==============================] - 3s 15ms/step - loss: 0.0465 - accuracy: 0.9806 - val_loss: 1.1414 - val_accuracy: 0.7531\n"
          ],
          "name": "stdout"
        }
      ]
    },
    {
      "cell_type": "code",
      "metadata": {
        "colab": {
          "base_uri": "https://localhost:8080/",
          "height": 285
        },
        "id": "8f0P11fXVyP5",
        "outputId": "46fa7897-d075-4ec1-e722-18acf73c9fb3"
      },
      "source": [
        "pd.DataFrame(history_model_5.history).plot()"
      ],
      "execution_count": null,
      "outputs": [
        {
          "output_type": "execute_result",
          "data": {
            "text/plain": [
              "<matplotlib.axes._subplots.AxesSubplot at 0x7fec0a4e2650>"
            ]
          },
          "metadata": {
            "tags": []
          },
          "execution_count": 74
        },
        {
          "output_type": "display_data",
          "data": {
            "image/png": "[encoded data removed]",
            "text/plain": [
              "<Figure size 432x288 with 1 Axes>"
            ]
          },
          "metadata": {
            "tags": [],
            "needs_background": "light"
          }
        }
      ]
    },
    {
      "cell_type": "markdown",
      "metadata": {
        "id": "rekgyqY9V8lU"
      },
      "source": [
        "# Model_6"
      ]
    },
    {
      "cell_type": "code",
      "metadata": {
        "id": "0PgMyMGWZz4E"
      },
      "source": [
        "import tensorflow_hub as hub\n",
        "embed = hub.KerasLayer(\"https://tfhub.dev/google/universal-sentence-encoder/4\",\n",
        "                       input_shape=[],\n",
        "                       dtype=tf.string)"
      ],
      "execution_count": null,
      "outputs": []
    },
    {
      "cell_type": "code",
      "metadata": {
        "id": "2ehRMXtPeuY-",
        "colab": {
          "base_uri": "https://localhost:8080/"
        },
        "outputId": "9a89a2e8-be49-47f2-82d8-ef06be4329d9"
      },
      "source": [
        "embedded = embed([\"Hi I am Manan\"])\n",
        "embedded[0][:10]"
      ],
      "execution_count": null,
      "outputs": [
        {
          "output_type": "execute_result",
          "data": {
            "text/plain": [
              "<tf.Tensor: shape=(10,), dtype=float32, numpy=\n",
              "array([ 0.00391947, -0.03653914,  0.0520271 , -0.04217998,  0.07906567,\n",
              "        0.07751808,  0.01906874, -0.00159734,  0.05766651,  0.02855617],\n",
              "      dtype=float32)>"
            ]
          },
          "metadata": {
            "tags": []
          },
          "execution_count": 76
        }
      ]
    },
    {
      "cell_type": "code",
      "metadata": {
        "id": "uRBBASipe6rY"
      },
      "source": [
        "# inputs = layers.Input(shape=(1,), dtype=tf.string)\n",
        "# # x = vectorizer(inputs)\n",
        "# x = embed(inputs)\n",
        "# outputs = layers.Dense(1, activation=\"sigmoid\")(x)\n",
        "# model_6 = tf.keras.Model(inputs, outputs)\n",
        "\n",
        "model_6 = tf.keras.models.Sequential()\n",
        "model_6.add(embed)\n",
        "model_6.add(tf.keras.layers.Dense(256, activation=\"relu\"))\n",
        "model_6.add(tf.keras.layers.Dense(256, activation=\"relu\"))\n",
        "model_6.add(tf.keras.layers.Dense(64, activation=\"relu\"))\n",
        "model_6.add(tf.keras.layers.Dense(64, activation=\"relu\"))\n",
        "model_6.add(tf.keras.layers.Dense(32, activation=\"relu\"))\n",
        "model_6.add(tf.keras.layers.Dense(1, activation=\"sigmoid\"))\n",
        "model_6.compile(loss=\"binary_crossentropy\", optimizer=tf.keras.optimizers.Adam(learning_rate=.002), metrics=[\"accuracy\"])"
      ],
      "execution_count": null,
      "outputs": []
    },
    {
      "cell_type": "code",
      "metadata": {
        "id": "Hu4Htw1PtTqq"
      },
      "source": [
        "# model_6.summary()"
      ],
      "execution_count": null,
      "outputs": []
    },
    {
      "cell_type": "code",
      "metadata": {
        "colab": {
          "base_uri": "https://localhost:8080/"
        },
        "id": "8JhjYJMIf2R-",
        "outputId": "fa35374a-9753-4348-94a0-d788c37a3a13"
      },
      "source": [
        "history_model_6 = model_6.fit(x_train, y_train,\n",
        "                              epochs = 5,\n",
        "                              validation_data=(x_test, y_test),\n",
        "                              callbacks = [create_tensorboard_callback(\"tensorboard\",\n",
        "                                                                       \"model_6\")])"
      ],
      "execution_count": null,
      "outputs": [
        {
          "output_type": "stream",
          "text": [
            "Saving TensorBoard log files to: tensorboard/model_6/20210803-132623\n",
            "Epoch 1/5\n",
            "191/191 [==============================] - 6s 22ms/step - loss: 0.4559 - accuracy: 0.7993 - val_loss: 0.4424 - val_accuracy: 0.8116\n",
            "Epoch 2/5\n",
            "191/191 [==============================] - 3s 13ms/step - loss: 0.3751 - accuracy: 0.8391 - val_loss: 0.4544 - val_accuracy: 0.7997\n",
            "Epoch 3/5\n",
            "191/191 [==============================] - 3s 15ms/step - loss: 0.3329 - accuracy: 0.8654 - val_loss: 0.4444 - val_accuracy: 0.8162\n",
            "Epoch 4/5\n",
            "191/191 [==============================] - 3s 13ms/step - loss: 0.2687 - accuracy: 0.8870 - val_loss: 0.5048 - val_accuracy: 0.7991\n",
            "Epoch 5/5\n",
            "191/191 [==============================] - 3s 15ms/step - loss: 0.1979 - accuracy: 0.9212 - val_loss: 0.6319 - val_accuracy: 0.7965\n"
          ],
          "name": "stdout"
        }
      ]
    },
    {
      "cell_type": "code",
      "metadata": {
        "id": "PCWL5QeptxvQ",
        "colab": {
          "base_uri": "https://localhost:8080/",
          "height": 285
        },
        "outputId": "26b7eb0e-5d17-4d07-c149-7b2d98fe0970"
      },
      "source": [
        "pd.DataFrame(history_model_6.history).plot()"
      ],
      "execution_count": null,
      "outputs": [
        {
          "output_type": "execute_result",
          "data": {
            "text/plain": [
              "<matplotlib.axes._subplots.AxesSubplot at 0x7febd6f18350>"
            ]
          },
          "metadata": {
            "tags": []
          },
          "execution_count": 80
        },
        {
          "output_type": "display_data",
          "data": {
            "image/png": "[encoded data removed]",
            "text/plain": [
              "<Figure size 432x288 with 1 Axes>"
            ]
          },
          "metadata": {
            "tags": [],
            "needs_background": "light"
          }
        }
      ]
    },
    {
      "cell_type": "markdown",
      "metadata": {
        "id": "76luYub0uy5L"
      },
      "source": [
        "# Model 7"
      ]
    },
    {
      "cell_type": "code",
      "metadata": {
        "id": "GNfLQTqvUuov"
      },
      "source": [
        "data_10 = data[['text','target']].sample(frac=.1, random_state=42)"
      ],
      "execution_count": null,
      "outputs": []
    },
    {
      "cell_type": "code",
      "metadata": {
        "colab": {
          "base_uri": "https://localhost:8080/"
        },
        "id": "8o5iPmMbWZW0",
        "outputId": "976e39f0-6bbf-4720-8680-3d7c5a419eed"
      },
      "source": [
        "data_10.shape"
      ],
      "execution_count": null,
      "outputs": [
        {
          "output_type": "execute_result",
          "data": {
            "text/plain": [
              "(761, 2)"
            ]
          },
          "metadata": {
            "tags": []
          },
          "execution_count": 82
        }
      ]
    },
    {
      "cell_type": "code",
      "metadata": {
        "id": "13akX9mlWkAR"
      },
      "source": [
        "model_7 = tf.keras.models.Sequential()\n",
        "model_7.add(embed)\n",
        "model_7.add(tf.keras.layers.Dense(64, activation=\"relu\"))\n",
        "model_7.add(tf.keras.layers.Dense(1, activation=\"sigmoid\"))\n",
        "model_7.compile(loss=\"binary_crossentropy\", optimizer=tf.keras.optimizers.Adam(learning_rate=.002), metrics=[\"accuracy\"])"
      ],
      "execution_count": null,
      "outputs": []
    },
    {
      "cell_type": "code",
      "metadata": {
        "colab": {
          "base_uri": "https://localhost:8080/"
        },
        "id": "IgF_0bNNXrs1",
        "outputId": "2ec41d67-7b68-408b-c3cd-90c10fdf1a7b"
      },
      "source": [
        "history_model_7 = model_7.fit(data_10['text'], data_10['target'],\n",
        "                              epochs = 6,\n",
        "                              validation_data=(data['text'], data['target']),\n",
        "                              callbacks = [create_tensorboard_callback(\"tensorboard\",\n",
        "                                                                       \"model_7\")])"
      ],
      "execution_count": null,
      "outputs": [
        {
          "output_type": "stream",
          "text": [
            "Saving TensorBoard log files to: tensorboard/model_7/20210803-132647\n",
            "Epoch 1/6\n",
            "24/24 [==============================] - 4s 153ms/step - loss: 0.6402 - accuracy: 0.7175 - val_loss: 0.5679 - val_accuracy: 0.7898\n",
            "Epoch 2/6\n",
            "24/24 [==============================] - 3s 122ms/step - loss: 0.4976 - accuracy: 0.8042 - val_loss: 0.4718 - val_accuracy: 0.7917\n",
            "Epoch 3/6\n",
            "24/24 [==============================] - 2s 97ms/step - loss: 0.4131 - accuracy: 0.8187 - val_loss: 0.4464 - val_accuracy: 0.7935\n",
            "Epoch 4/6\n",
            "24/24 [==============================] - 2s 93ms/step - loss: 0.3680 - accuracy: 0.8371 - val_loss: 0.4404 - val_accuracy: 0.8013\n",
            "Epoch 5/6\n",
            "24/24 [==============================] - 2s 89ms/step - loss: 0.3383 - accuracy: 0.8555 - val_loss: 0.4435 - val_accuracy: 0.7940\n",
            "Epoch 6/6\n",
            "24/24 [==============================] - 3s 120ms/step - loss: 0.3175 - accuracy: 0.8686 - val_loss: 0.4494 - val_accuracy: 0.7921\n"
          ],
          "name": "stdout"
        }
      ]
    },
    {
      "cell_type": "code",
      "metadata": {
        "colab": {
          "base_uri": "https://localhost:8080/"
        },
        "id": "Xg8aKqJjX0t4",
        "outputId": "097a4004-084c-4464-c4c2-cb5acf7d514a"
      },
      "source": [
        "model_7.evaluate(x_test, y_test)"
      ],
      "execution_count": null,
      "outputs": [
        {
          "output_type": "stream",
          "text": [
            "48/48 [==============================] - 0s 9ms/step - loss: 0.4735 - accuracy: 0.7768\n"
          ],
          "name": "stdout"
        },
        {
          "output_type": "execute_result",
          "data": {
            "text/plain": [
              "[0.47345519065856934, 0.7767564058303833]"
            ]
          },
          "metadata": {
            "tags": []
          },
          "execution_count": 85
        }
      ]
    },
    {
      "cell_type": "code",
      "metadata": {
        "colab": {
          "base_uri": "https://localhost:8080/"
        },
        "id": "uLdHUXxUdTon",
        "outputId": "d5c905e6-afa1-41d1-bb06-cc5a95d50fed"
      },
      "source": [
        "model_7.summary()"
      ],
      "execution_count": null,
      "outputs": [
        {
          "output_type": "stream",
          "text": [
            "Model: \"sequential_1\"\n",
            "_________________________________________________________________\n",
            "Layer (type)                 Output Shape              Param #   \n",
            "=================================================================\n",
            "keras_layer (KerasLayer)     (None, 512)               256797824 \n",
            "_________________________________________________________________\n",
            "dense_11 (Dense)             (None, 64)                32832     \n",
            "_________________________________________________________________\n",
            "dense_12 (Dense)             (None, 1)                 65        \n",
            "=================================================================\n",
            "Total params: 256,830,721\n",
            "Trainable params: 32,897\n",
            "Non-trainable params: 256,797,824\n",
            "_________________________________________________________________\n"
          ],
          "name": "stdout"
        }
      ]
    },
    {
      "cell_type": "markdown",
      "metadata": {
        "id": "Ps0iGC8XcYHo"
      },
      "source": [
        "# Finding the most incorrect with highest probability"
      ]
    },
    {
      "cell_type": "code",
      "metadata": {
        "id": "qFzK9QkkMqK4"
      },
      "source": [
        "probs = np.asarray(model_7.predict(x_test))"
      ],
      "execution_count": null,
      "outputs": []
    },
    {
      "cell_type": "code",
      "metadata": {
        "id": "e0W5A-7oNddU"
      },
      "source": [
        "sq_probs = tf.squeeze(probs)"
      ],
      "execution_count": null,
      "outputs": []
    },
    {
      "cell_type": "code",
      "metadata": {
        "colab": {
          "base_uri": "https://localhost:8080/"
        },
        "id": "XI_lAaoINJ7r",
        "outputId": "f811e4b0-680f-4c2b-d07b-f1378877086e"
      },
      "source": [
        "tf.squeeze(probs.shape), y_test.shape"
      ],
      "execution_count": null,
      "outputs": [
        {
          "output_type": "execute_result",
          "data": {
            "text/plain": [
              "(<tf.Tensor: shape=(2,), dtype=int32, numpy=array([1523,    1], dtype=int32)>,\n",
              " (1523,))"
            ]
          },
          "metadata": {
            "tags": []
          },
          "execution_count": 94
        }
      ]
    },
    {
      "cell_type": "code",
      "metadata": {
        "id": "rhUB4DxdMv5F"
      },
      "source": [
        "probs_comp = pd.DataFrame({\"Statement\":x_test, \"True\":y_test, \"Prediction\":sq_probs})"
      ],
      "execution_count": null,
      "outputs": []
    },
    {
      "cell_type": "code",
      "metadata": {
        "id": "joGePAGaMyN1"
      },
      "source": [
        "sorted_prob_comparision = probs_comp.sort_values(\"Prediction\", ascending=False)"
      ],
      "execution_count": null,
      "outputs": []
    },
    {
      "cell_type": "code",
      "metadata": {
        "colab": {
          "base_uri": "https://localhost:8080/",
          "height": 359
        },
        "id": "GJComPI0QU4V",
        "outputId": "a938fb1e-3420-46a4-bab6-ad8a54e344c4"
      },
      "source": [
        "sorted_prob_comparision[sorted_prob_comparision[\"True\"]==0].head(10)"
      ],
      "execution_count": null,
      "outputs": [
        {
          "output_type": "execute_result",
          "data": {
            "text/html": [
              "<div>\n",
              "<style scoped>\n",
              "    .dataframe tbody tr th:only-of-type {\n",
              "        vertical-align: middle;\n",
              "    }\n",
              "\n",
              "    .dataframe tbody tr th {\n",
              "        vertical-align: top;\n",
              "    }\n",
              "\n",
              "    .dataframe thead th {\n",
              "        text-align: right;\n",
              "    }\n",
              "</style>\n",
              "<table border=\"1\" class=\"dataframe\">\n",
              "  <thead>\n",
              "    <tr style=\"text-align: right;\">\n",
              "      <th></th>\n",
              "      <th>Statement</th>\n",
              "      <th>True</th>\n",
              "      <th>Prediction</th>\n",
              "    </tr>\n",
              "  </thead>\n",
              "  <tbody>\n",
              "    <tr>\n",
              "      <th>881</th>\n",
              "      <td>@adorableappple No reported flooding po in the...</td>\n",
              "      <td>0</td>\n",
              "      <td>0.977900</td>\n",
              "    </tr>\n",
              "    <tr>\n",
              "      <th>1363</th>\n",
              "      <td>Governor weighs parole for California school b...</td>\n",
              "      <td>0</td>\n",
              "      <td>0.967232</td>\n",
              "    </tr>\n",
              "    <tr>\n",
              "      <th>769</th>\n",
              "      <td>Weapons stolen from National Guard Armory in N...</td>\n",
              "      <td>0</td>\n",
              "      <td>0.948488</td>\n",
              "    </tr>\n",
              "    <tr>\n",
              "      <th>31</th>\n",
              "      <td>? High Skies - Burning Buildings ? http://t.co...</td>\n",
              "      <td>0</td>\n",
              "      <td>0.945232</td>\n",
              "    </tr>\n",
              "    <tr>\n",
              "      <th>759</th>\n",
              "      <td>FedEx will no longer transport bioterror patho...</td>\n",
              "      <td>0</td>\n",
              "      <td>0.939384</td>\n",
              "    </tr>\n",
              "    <tr>\n",
              "      <th>805</th>\n",
              "      <td>Fire hazard associated with installation of no...</td>\n",
              "      <td>0</td>\n",
              "      <td>0.938148</td>\n",
              "    </tr>\n",
              "    <tr>\n",
              "      <th>813</th>\n",
              "      <td>Aug. 5: The Fort Calhoun Nuclear Station is at...</td>\n",
              "      <td>0</td>\n",
              "      <td>0.933387</td>\n",
              "    </tr>\n",
              "    <tr>\n",
              "      <th>48</th>\n",
              "      <td>Cyclists it is pandemonium on the roads today....</td>\n",
              "      <td>0</td>\n",
              "      <td>0.931525</td>\n",
              "    </tr>\n",
              "    <tr>\n",
              "      <th>567</th>\n",
              "      <td>@RebeccaforReal accepts Wisconsin Emergency Re...</td>\n",
              "      <td>0</td>\n",
              "      <td>0.931216</td>\n",
              "    </tr>\n",
              "    <tr>\n",
              "      <th>393</th>\n",
              "      <td>@SonofLiberty357 all illuminated by the bright...</td>\n",
              "      <td>0</td>\n",
              "      <td>0.922653</td>\n",
              "    </tr>\n",
              "  </tbody>\n",
              "</table>\n",
              "</div>"
            ],
            "text/plain": [
              "                                              Statement  True  Prediction\n",
              "881   @adorableappple No reported flooding po in the...     0    0.977900\n",
              "1363  Governor weighs parole for California school b...     0    0.967232\n",
              "769   Weapons stolen from National Guard Armory in N...     0    0.948488\n",
              "31    ? High Skies - Burning Buildings ? http://t.co...     0    0.945232\n",
              "759   FedEx will no longer transport bioterror patho...     0    0.939384\n",
              "805   Fire hazard associated with installation of no...     0    0.938148\n",
              "813   Aug. 5: The Fort Calhoun Nuclear Station is at...     0    0.933387\n",
              "48    Cyclists it is pandemonium on the roads today....     0    0.931525\n",
              "567   @RebeccaforReal accepts Wisconsin Emergency Re...     0    0.931216\n",
              "393   @SonofLiberty357 all illuminated by the bright...     0    0.922653"
            ]
          },
          "metadata": {
            "tags": []
          },
          "execution_count": 118
        }
      ]
    },
    {
      "cell_type": "code",
      "metadata": {
        "colab": {
          "base_uri": "https://localhost:8080/",
          "height": 35
        },
        "id": "ifgVtEzCOV3n",
        "outputId": "44041e0e-cf46-4521-a5fd-2a5df7b07be4"
      },
      "source": [
        "sorted_prob_comparision[sorted_prob_comparision[\"True\"]==0][\"Statement\"][567]"
      ],
      "execution_count": null,
      "outputs": [
        {
          "output_type": "execute_result",
          "data": {
            "application/vnd.google.colaboratory.intrinsic+json": {
              "type": "string"
            },
            "text/plain": [
              "'@RebeccaforReal accepts Wisconsin Emergency Response Plan on behalf of @GovWalker #nbc15 http://t.co/Pis0aiVRbR'"
            ]
          },
          "metadata": {
            "tags": []
          },
          "execution_count": 124
        }
      ]
    },
    {
      "cell_type": "code",
      "metadata": {
        "id": "Wmp9uTheOuqh"
      },
      "source": [
        ""
      ],
      "execution_count": null,
      "outputs": []
    }
  ]
}